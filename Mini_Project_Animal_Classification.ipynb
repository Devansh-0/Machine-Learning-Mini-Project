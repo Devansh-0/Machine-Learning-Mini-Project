{
  "nbformat": 4,
  "nbformat_minor": 0,
  "metadata": {
    "colab": {
      "name": "Mini Project Animal Classification.ipynb",
      "provenance": [],
      "collapsed_sections": [],
      "mount_file_id": "1tILRjTknxaJ03B9KOWz4UtbBXjLVoivJ",
      "authorship_tag": "ABX9TyMjIZlcqb7rjNblVcYLQGMc",
      "include_colab_link": true
    },
    "kernelspec": {
      "name": "python3",
      "display_name": "Python 3"
    }
  },
  "cells": [
    {
      "cell_type": "markdown",
      "metadata": {
        "id": "view-in-github",
        "colab_type": "text"
      },
      "source": [
        "<a href=\"https://colab.research.google.com/github/Devansh-0/Machine-Learning-Mini-Project/blob/main/Mini_Project_Animal_Classification.ipynb\" target=\"_parent\"><img src=\"https://colab.research.google.com/assets/colab-badge.svg\" alt=\"Open In Colab\"/></a>"
      ]
    },
    {
      "cell_type": "code",
      "metadata": {
        "id": "_mfyi_E7V7TB"
      },
      "source": [
        "# This is a simple python project based on image classifiacation. \n",
        "# The Model will classify images of Birds and Fishes  "
      ],
      "execution_count": null,
      "outputs": []
    },
    {
      "cell_type": "code",
      "metadata": {
        "id": "jiZd5eN5XAj4"
      },
      "source": [
        "# Creating a directory to store images.\n",
        "\n",
        "!mkdir MiniProjectSamples"
      ],
      "execution_count": null,
      "outputs": []
    },
    {
      "cell_type": "code",
      "metadata": {
        "id": "I3298B7oWB19"
      },
      "source": [
        "# DATA COLLECTION\n",
        "# Importing images and creating a database using Bing dwonloader.\n",
        "\n",
        "!pip install bing-image-downloader \n",
        "\n",
        "from bing_image_downloader import downloader\n",
        "\n",
        "\n",
        "downloader.download(\"Fish images\", limit= 50, output_dir= 'MiniProjectSamples')\n",
        "downloader.download(\"Bird images\", limit= 50, output_dir= 'MiniProjectSamples')\n",
        "\n",
        "print(\"Data Collection Complete.\")\n",
        "\n"
      ],
      "execution_count": null,
      "outputs": []
    },
    {
      "cell_type": "code",
      "metadata": {
        "id": "Tl0-4KkObbJb"
      },
      "source": [
        "# DATA PRE-PROCESSING\n",
        "\n",
        "import os\n",
        "import matplotlib.pyplot as plt\n",
        "import numpy as np\n",
        "from skimage.io import imread\n",
        "from skimage.transform import resize \n",
        "import cv2\n",
        "\n",
        "Data= '/content/drive/MyDrive/Colab Notebooks/MiniProjectSamples'\n",
        "\n",
        "Category= ['Fish images', 'Bird images']\n",
        "target= []\n",
        "Flat_Data= []\n",
        "\n",
        "for i in Category:\n",
        "  path = os.path.join(Data,i)\n",
        "  label= Category.index(i)\n",
        "  #print(path)\n",
        "\n",
        "  for img in os.listdir(path):\n",
        "    img_array = imread(os.path.join(path,img))\n",
        "    \n",
        "    img_resized = resize(img_array,(150,150,3))  \n",
        "    Flat_Data.append(img_resized.flatten())\n",
        "    target.append(i)\n",
        "\n",
        "\n",
        "  \n",
        "  x= np.array(Flat_Data)\n",
        "  y= np.array(target)\n",
        "\n",
        "  print('Pre-Processing Comeplete.')\n",
        "\n",
        "\n"
      ],
      "execution_count": 2,
      "outputs": []
    },
    {
      "cell_type": "code",
      "metadata": {
        "id": "waMn7N7Ikzbv"
      },
      "source": [
        "# Employing Suited Model\n",
        "\n",
        "import pandas as pd\n",
        "\n",
        "df = pd.DataFrame(Flat_Data)\n",
        "\n",
        "from sklearn.model_selection import train_test_split\n",
        "x_train,x_test,y_train,y_test = train_test_split(x,y,train_size=0.8,random_state=0)\n",
        "\n",
        "\n",
        "from sklearn.svm import SVC\n",
        "model = SVC()\n",
        "model.fit(x_train,y_train)\n",
        "y_pred = model.predict(x_test)\n",
        "\n",
        "from sklearn.metrics import accuracy_score,confusion_matrix,classification_report\n",
        "accuracy_score(y_pred,y_test)\n",
        "classification_report(y_pred,y_test)\n",
        "\n",
        "print(\"Model Appication and Analysis Complete.\")"
      ],
      "execution_count": null,
      "outputs": []
    },
    {
      "cell_type": "code",
      "metadata": {
        "id": "5quPzBQ0rYl3"
      },
      "source": [
        "a= accuracy_score(y_pred,y_test)\n",
        "z= classification_report(y_pred,y_test)\n",
        "\n",
        "\n",
        "print(\"Final Accuracy Score of the Model is:\",a)\n",
        "print(\"\\n\\n\")\n",
        "print(\"Classification Report of the Model:\\n\\n\",z)"
      ],
      "execution_count": null,
      "outputs": []
    },
    {
      "cell_type": "code",
      "metadata": {
        "id": "lg4lHFn7-u1x"
      },
      "source": [
        "#Checking Grid Search Parameters of the Model\n",
        "\n",
        "w= grid_search.best_params_\n",
        "print(\"Grid Parametrers Before Hyperparameter Tuning:\",w)"
      ],
      "execution_count": null,
      "outputs": []
    },
    {
      "cell_type": "code",
      "metadata": {
        "id": "35qVhKbCk7lV"
      },
      "source": [
        "#Finding Best parameters for the model\n",
        "\n",
        "\n",
        "from sklearn.model_selection import GridSearchCV\n",
        "\n",
        "\n",
        "parameters = [{'C':[1,10,100,1000],'kernel':['linear'],\n",
        "               'C':[1,10,100,1000],'kernel':['rbf'],'gamma':[0.1,0.2,0.3,0.4,0.5,0.6,0.7,0.8,0.9]}]\n",
        "\n",
        "\n",
        "grid_search = GridSearchCV(estimator=model,param_grid = parameters,\n",
        "                           scoring='accuracy',cv = 10)\n",
        "\n",
        "grid_search =grid_search.fit(x_train,y_train)\n",
        "\n",
        "print(\"Process Complete.\")"
      ],
      "execution_count": null,
      "outputs": []
    },
    {
      "cell_type": "code",
      "metadata": {
        "id": "-mySToQFBUkB"
      },
      "source": [
        "#Checking the Best Parameters:\n",
        "\n",
        "u= grid_search.best_params_\n",
        "print(\"Best Parameters are:\",u)\n",
        "\n",
        "if(u==w):\n",
        "  print(\"No tuning required\")\n",
        "\n",
        "\n",
        "#Since The Best Parameters are applied already, we dont need to retune the model. \n",
        "\n",
        "\n"
      ],
      "execution_count": null,
      "outputs": []
    },
    {
      "cell_type": "code",
      "metadata": {
        "id": "g-AiicAX-U51"
      },
      "source": [
        "# End of Project"
      ],
      "execution_count": null,
      "outputs": []
    }
  ]
}